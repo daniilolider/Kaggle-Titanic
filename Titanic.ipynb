{
 "cells": [
  {
   "cell_type": "code",
   "execution_count": 36,
   "outputs": [],
   "source": [
    "import pandas as pd"
   ],
   "metadata": {
    "collapsed": false,
    "ExecuteTime": {
     "end_time": "2024-10-28T17:28:13.749395200Z",
     "start_time": "2024-10-28T17:28:13.747883100Z"
    }
   },
   "id": "initial_id"
  },
  {
   "cell_type": "code",
   "execution_count": 37,
   "outputs": [],
   "source": [
    "submission = {\n",
    "    'PassengerId': pd.read_csv('data/test.csv').PassengerId.values,\n",
    "    'Survived': 1  # Baseline. Let it be that everyone is dead\n",
    "}\n",
    "solution = pd.DataFrame(submission)\n",
    "solution.to_csv('submission.csv', index=False)"
   ],
   "metadata": {
    "collapsed": false,
    "ExecuteTime": {
     "end_time": "2024-10-28T17:28:13.754119600Z",
     "start_time": "2024-10-28T17:28:13.749395200Z"
    }
   },
   "id": "f301a3c67826acf3"
  }
 ],
 "metadata": {
  "kernelspec": {
   "display_name": "Python 3",
   "language": "python",
   "name": "python3"
  },
  "language_info": {
   "codemirror_mode": {
    "name": "ipython",
    "version": 2
   },
   "file_extension": ".py",
   "mimetype": "text/x-python",
   "name": "python",
   "nbconvert_exporter": "python",
   "pygments_lexer": "ipython2",
   "version": "2.7.6"
  }
 },
 "nbformat": 4,
 "nbformat_minor": 5
}
